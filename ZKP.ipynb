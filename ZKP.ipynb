{
  "nbformat": 4,
  "nbformat_minor": 0,
  "metadata": {
    "colab": {
      "provenance": []
    },
    "kernelspec": {
      "name": "python3",
      "display_name": "Python 3"
    },
    "language_info": {
      "name": "python"
    }
  },
  "cells": [
    {
      "cell_type": "code",
      "execution_count": 1,
      "metadata": {
        "colab": {
          "base_uri": "https://localhost:8080/"
        },
        "id": "gMqnbeE5Y9SR",
        "outputId": "6fe7511e-9521-4152-b301-292e1c6e2543"
      },
      "outputs": [
        {
          "output_type": "stream",
          "name": "stdout",
          "text": [
            "Public modulus n: 391\n"
          ]
        }
      ],
      "source": [
        "import random\n",
        "\n",
        "# Step 1: Setup (done by both Prover and Verifier)\n",
        "# Public parameters\n",
        "p = 17  # prime number\n",
        "q = 23  # another prime\n",
        "n = p * q  # modulus (public)\n",
        "print(\"Public modulus n:\", n)"
      ]
    },
    {
      "cell_type": "code",
      "source": [
        "# Prover's secret (e.g., derived from password)\n",
        "s = 5  # Secret (password hash, for example)\n",
        "v = pow(s, 2, n)  # Public value = s^2 mod n\n",
        "print(\"Public verification value v:\", v)"
      ],
      "metadata": {
        "colab": {
          "base_uri": "https://localhost:8080/"
        },
        "id": "NMM8f3vWZOPH",
        "outputId": "3437a001-158a-411d-cdd0-10c37f2825e9"
      },
      "execution_count": 2,
      "outputs": [
        {
          "output_type": "stream",
          "name": "stdout",
          "text": [
            "Public verification value v: 25\n"
          ]
        }
      ]
    },
    {
      "cell_type": "code",
      "source": [
        "# Step 2: Prover generates a random value and sends commitment\n",
        "r = random.randint(1, n - 1)\n",
        "x = pow(r, 2, n)\n",
        "print(\"\\n[Prover] Sends commitment x to Verifier:\", x)"
      ],
      "metadata": {
        "colab": {
          "base_uri": "https://localhost:8080/"
        },
        "id": "xQ2XGABMZQru",
        "outputId": "4fe1c598-9964-4e6b-e890-b9dd28067828"
      },
      "execution_count": 3,
      "outputs": [
        {
          "output_type": "stream",
          "name": "stdout",
          "text": [
            "\n",
            "[Prover] Sends commitment x to Verifier: 288\n"
          ]
        }
      ]
    },
    {
      "cell_type": "code",
      "source": [
        "# Step 3: Verifier sends a random challenge (0 or 1)\n",
        "e = random.randint(0, 1)\n",
        "print(\"[Verifier] Sends challenge e:\", e)"
      ],
      "metadata": {
        "colab": {
          "base_uri": "https://localhost:8080/"
        },
        "id": "fZj3UEfeZTvK",
        "outputId": "9c5d4ffa-4829-4a60-e5d6-a7a751043d80"
      },
      "execution_count": 4,
      "outputs": [
        {
          "output_type": "stream",
          "name": "stdout",
          "text": [
            "[Verifier] Sends challenge e: 0\n"
          ]
        }
      ]
    },
    {
      "cell_type": "code",
      "source": [
        "# Step 4: Prover responds with proof\n",
        "if e == 0:\n",
        "    y = r\n",
        "else:\n",
        "    y = (r * s) % n\n",
        "print(\"[Prover] Sends response y:\", y)"
      ],
      "metadata": {
        "colab": {
          "base_uri": "https://localhost:8080/"
        },
        "id": "zIy_Pw1sZWO6",
        "outputId": "c500eaaa-18bd-4565-af0d-5c4b6ed6d417"
      },
      "execution_count": 5,
      "outputs": [
        {
          "output_type": "stream",
          "name": "stdout",
          "text": [
            "[Prover] Sends response y: 55\n"
          ]
        }
      ]
    },
    {
      "cell_type": "code",
      "source": [
        "# Step 5: Verifier checks the proof\n",
        "if e == 0:\n",
        "    check = pow(y, 2, n) == x\n",
        "else:\n",
        "    check = pow(y, 2, n) == (x * v) % n\n",
        "\n",
        "print(\"[Verifier] Verification result:\", \"Success \" if check else \"Failed \")"
      ],
      "metadata": {
        "colab": {
          "base_uri": "https://localhost:8080/"
        },
        "id": "KI17NzghZdcz",
        "outputId": "1cccec2c-375e-4b8f-f6f5-476e74d6e6f7"
      },
      "execution_count": 6,
      "outputs": [
        {
          "output_type": "stream",
          "name": "stdout",
          "text": [
            "[Verifier] Verification result: Success \n"
          ]
        }
      ]
    }
  ]
}