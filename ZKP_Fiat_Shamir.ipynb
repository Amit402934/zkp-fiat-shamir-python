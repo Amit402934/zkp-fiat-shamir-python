{
  "nbformat": 4,
  "nbformat_minor": 0,
  "metadata": {
    "colab": {
      "provenance": []
    },
    "kernelspec": {
      "name": "python3",
      "display_name": "Python 3"
    },
    "language_info": {
      "name": "python"
    }
  },
  "cells": [
    {
      "cell_type": "code",
      "execution_count": 1,
      "metadata": {
        "colab": {
          "base_uri": "https://localhost:8080/"
        },
        "id": "uNT6-v0CVsJf",
        "outputId": "1b4eeaa2-0c9a-4c27-a3b9-6e8c8223fcda"
      },
      "outputs": [
        {
          "output_type": "stream",
          "name": "stdout",
          "text": [
            "Collecting pycryptodome\n",
            "  Downloading pycryptodome-3.22.0-cp37-abi3-manylinux_2_17_x86_64.manylinux2014_x86_64.whl.metadata (3.4 kB)\n",
            "Downloading pycryptodome-3.22.0-cp37-abi3-manylinux_2_17_x86_64.manylinux2014_x86_64.whl (2.3 MB)\n",
            "\u001b[2K   \u001b[90m━━━━━━━━━━━━━━━━━━━━━━━━━━━━━━━━━━━━━━━━\u001b[0m \u001b[32m2.3/2.3 MB\u001b[0m \u001b[31m18.7 MB/s\u001b[0m eta \u001b[36m0:00:00\u001b[0m\n",
            "\u001b[?25hInstalling collected packages: pycryptodome\n",
            "Successfully installed pycryptodome-3.22.0\n"
          ]
        }
      ],
      "source": [
        "!pip install pycryptodome"
      ]
    },
    {
      "cell_type": "code",
      "source": [
        "from Crypto.Util import number\n",
        "from Crypto.Random import random"
      ],
      "metadata": {
        "id": "DRkL7_w9V4GE"
      },
      "execution_count": 6,
      "outputs": []
    },
    {
      "cell_type": "code",
      "source": [
        "# Step 1: Setup (Prover and Verifier)\n",
        "# Generate two large primes p and q\n",
        "p = number.getPrime(1024)  # 1024-bit prime\n",
        "q = number.getPrime(1024)  # 1024-bit prime\n",
        "n = p * q  # Public modulus\n",
        "\n",
        "print(\"Public modulus n generated with bit length:\", n.bit_length())"
      ],
      "metadata": {
        "colab": {
          "base_uri": "https://localhost:8080/"
        },
        "id": "a1QnDjL1V65m",
        "outputId": "f01fb9f5-200a-4f5a-db92-0df01b90fc09"
      },
      "execution_count": 7,
      "outputs": [
        {
          "output_type": "stream",
          "name": "stdout",
          "text": [
            "Public modulus n generated with bit length: 2048\n"
          ]
        }
      ]
    },
    {
      "cell_type": "code",
      "source": [
        "# Prover's secret (e.g., password or secret knowledge)\n",
        "s = random.randint(2, n - 1)  # Secret large random number\n",
        "v = pow(s, 2, n)  # Public verification value\n",
        "\n",
        "# Step 2: Prover generates a random number and computes commitment\n",
        "r = random.randint(2, n - 1)\n",
        "x = pow(r, 2, n)\n",
        "print(\"\\n[Prover] Commitment x sent to Verifier.\")"
      ],
      "metadata": {
        "colab": {
          "base_uri": "https://localhost:8080/"
        },
        "id": "Lg3EffjlV9Jg",
        "outputId": "1922394c-d9dd-41a4-cb4c-73b6bcc76b0c"
      },
      "execution_count": 8,
      "outputs": [
        {
          "output_type": "stream",
          "name": "stdout",
          "text": [
            "\n",
            "[Prover] Commitment x sent to Verifier.\n"
          ]
        }
      ]
    },
    {
      "cell_type": "code",
      "source": [
        "# Step 3: Verifier issues a random challenge (0 or 1)\n",
        "e = random.randint(0, 1)\n",
        "print(\"[Verifier] Challenge e issued:\", e)\n",
        "\n",
        "# Step 4: Prover computes response based on challenge\n",
        "if e == 0:\n",
        "    y = r\n",
        "else:\n",
        "    y = (r * s) % n\n",
        "print(\"[Prover] Response y sent to Verifier.\")\n",
        "\n",
        "# Step 5: Verifier checks the proof\n",
        "if e == 0:\n",
        "    verification = pow(y, 2, n) == x\n",
        "else:\n",
        "    verification = pow(y, 2, n) == (x * v) % n\n",
        "\n",
        "print(\"\\n[Verifier] Verification Result:\", \"Success \" if verification else \"Failure \")"
      ],
      "metadata": {
        "colab": {
          "base_uri": "https://localhost:8080/"
        },
        "id": "o2MZRAOCWBZu",
        "outputId": "67ebc185-89be-4ad5-9ec4-1741d5dddb1b"
      },
      "execution_count": 9,
      "outputs": [
        {
          "output_type": "stream",
          "name": "stdout",
          "text": [
            "[Verifier] Challenge e issued: 1\n",
            "[Prover] Response y sent to Verifier.\n",
            "\n",
            "[Verifier] Verification Result: Success \n"
          ]
        }
      ]
    }
  ]
}